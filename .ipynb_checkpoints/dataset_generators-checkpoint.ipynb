{
 "cells": [
  {
   "cell_type": "code",
   "execution_count": 1,
   "id": "675e4b31-a837-4ad7-bf57-ec73501c6b1b",
   "metadata": {},
   "outputs": [],
   "source": [
    "import numpy as np\n",
    "import scipy as sp\n",
    "import matplotlib.pylab as plt\n",
    "from sklearn.model_selection import train_test_split"
   ]
  },
  {
   "cell_type": "code",
   "execution_count": 2,
   "id": "6c65cfa9-3b41-4316-bf8a-5a871521a9a4",
   "metadata": {},
   "outputs": [],
   "source": [
    "rng = np.random.default_rng()"
   ]
  },
  {
   "cell_type": "markdown",
   "id": "b8757d0b-4dfa-44cb-90ff-d3ff1d75e389",
   "metadata": {},
   "source": [
    "## Pinwheel"
   ]
  },
  {
   "cell_type": "code",
   "execution_count": 3,
   "id": "4fba970b-c263-4a3f-8bdc-5c5511c7ba6a",
   "metadata": {},
   "outputs": [],
   "source": [
    "def generate_pinwheel(*, num: int, rng: np.random.Generator) -> np.ndarray:\n",
    "    # https://github.com/Formulator/Spiral/blob/master/PyTorch_Spiral_DataLoader.ipynb\n",
    "    D = 2 # dimensionality\n",
    "    K = 3 # number of classes\n",
    "    N = num // K  # note: we will not generate exactly num datapoints unless K divides num\n",
    "    X = np.zeros((N*K,D))\n",
    "    y = np.zeros(N*K, dtype='uint8')\n",
    "    for j in range(K):\n",
    "      ix = range(N*j,N*(j+1))\n",
    "      r = np.linspace(0.0,1,N) # radius\n",
    "      t = np.linspace(j*4,(j+1)*4,N) + rng.standard_normal(N)*0.2 # theta\n",
    "      X[ix] = np.c_[r*np.sin(t), r*np.cos(t)]\n",
    "    return X"
   ]
  },
  {
   "cell_type": "markdown",
   "id": "b674035c-c749-4527-b00a-bdc1ee8ba394",
   "metadata": {},
   "source": [
    "## Spiral"
   ]
  },
  {
   "cell_type": "code",
   "execution_count": 4,
   "id": "05c51ef9-64cd-4ec1-9bc0-0c7389df5cf4",
   "metadata": {},
   "outputs": [],
   "source": [
    "def generate_spiral(*, num: int, rng: np.random.Generator) -> np.ndarray:\n",
    "    thetas = rng.uniform(low=0.0, high=6*np.pi, size=(num,))\n",
    "    rs = thetas * 0.05\n",
    "    X = np.hstack((\n",
    "        (rs * np.cos(thetas))[:, None],\n",
    "        (rs * np.sin(thetas))[:, None],\n",
    "    ))\n",
    "    X = X + 0.04 * rng.standard_normal(X.shape) \n",
    "    return X"
   ]
  },
  {
   "cell_type": "markdown",
   "id": "35c88377-0923-4bbb-9731-6541adc34af9",
   "metadata": {},
   "source": [
    "## Checkerboard"
   ]
  },
  {
   "cell_type": "code",
   "execution_count": 5,
   "id": "4c9e81f2-e89e-43b4-871e-942e7d772621",
   "metadata": {},
   "outputs": [],
   "source": [
    "def generate_checkerboard(*, num: int, rng: np.random.Generator) -> np.ndarray:\n",
    "    # https://github.com/malbergo/stochastic-interpolants/blob/main/notebooks/checker-mirror.ipynb\n",
    "    x1 = rng.uniform(size=num) * 4 - 2\n",
    "    x2_ = rng.uniform(size=num) - rng.choice([0, 1], size=(num,)) * 2\n",
    "    x2 = x2_ + (np.floor(x1) % 2)\n",
    "    x = np.hstack([x1[:, None], x2[:, None]]) * 2\n",
    "    return x"
   ]
  },
  {
   "cell_type": "markdown",
   "id": "22650deb-5f28-4ca8-9f34-140384f14c56",
   "metadata": {},
   "source": [
    "## Gaussian mixtures"
   ]
  },
  {
   "cell_type": "code",
   "execution_count": 6,
   "id": "38768c7c-20f3-46c2-85be-6d19d8a66e4c",
   "metadata": {},
   "outputs": [],
   "source": [
    "def generate_gaussian_mixtures(*, num: int, rng: np.random.Generator) -> np.ndarray:\n",
    "    angles = np.linspace(0, 2*np.pi, 8)[:-1]\n",
    "    idxs = rng.choice(np.arange(len(angles)), size=num)\n",
    "    X = np.hstack((\n",
    "        1.2*np.cos(angles[idxs])[:, None],\n",
    "        1.2*np.sin(angles[idxs])[:, None]\n",
    "    ))\n",
    "    X = X + rng.standard_normal(size=X.shape) * 0.12\n",
    "    return X"
   ]
  },
  {
   "cell_type": "code",
   "execution_count": 7,
   "id": "879c9301-8d05-4981-82fc-3931af7548b7",
   "metadata": {},
   "outputs": [],
   "source": [
    "# X1 pinwheel, X2 gaussian_mixtures\n",
    "X1_data, X2_data = generate_pinwheel(num=3000, rng=rng), generate_gaussian_mixtures(num=2500, rng=rng)\n",
    "X1_train, X1_test = train_test_split(X1_data, test_size=500, train_size=2000)\n",
    "X2_train, X2_test = train_test_split(X2_data, test_size=500, train_size=2000)\n",
    "\n",
    "np.save(\"Pinwheel_train.npy\", X1_train)\n",
    "np.save(\"Pinwheel_test.npy\", X1_test)\n",
    "np.save(\"Gaussian_Mixtures_train.npy\", X2_train)\n",
    "np.save(\"Gaussian_Mixtures_test.npy\", X2_test)"
   ]
  }
 ],
 "metadata": {
  "kernelspec": {
   "display_name": "EE660",
   "language": "python",
   "name": "ee660"
  },
  "language_info": {
   "codemirror_mode": {
    "name": "ipython",
    "version": 3
   },
   "file_extension": ".py",
   "mimetype": "text/x-python",
   "name": "python",
   "nbconvert_exporter": "python",
   "pygments_lexer": "ipython3",
   "version": "3.10.15"
  }
 },
 "nbformat": 4,
 "nbformat_minor": 5
}
